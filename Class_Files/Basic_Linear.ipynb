{
 "cells": [
  {
   "cell_type": "code",
   "execution_count": 2,
   "metadata": {},
   "outputs": [],
   "source": [
    "import numpy as np\n",
    "from numpy import linalg as LA\n",
    "import pandas as pd"
   ]
  },
  {
   "cell_type": "markdown",
   "metadata": {},
   "source": [
    "## Creating Arrays"
   ]
  },
  {
   "cell_type": "markdown",
   "metadata": {},
   "source": [
    "### 1d Arrays (Vectors)"
   ]
  },
  {
   "cell_type": "markdown",
   "metadata": {},
   "source": [
    "The following commands are usefull in creating one dimensional vectors.  As we will see later these are distinct from matrices with one row or one column."
   ]
  },
  {
   "cell_type": "code",
   "execution_count": 2,
   "metadata": {},
   "outputs": [
    {
     "data": {
      "text/plain": [
       "array([1, 7, 9, 0])"
      ]
     },
     "execution_count": 2,
     "metadata": {},
     "output_type": "execute_result"
    }
   ],
   "source": [
    "np.array([1,7,9,0]) # Creates a 1X4 array of specific values"
   ]
  },
  {
   "cell_type": "code",
   "execution_count": 3,
   "metadata": {},
   "outputs": [],
   "source": [
    "np.arange(1,5); # 1d array with consecutive terms"
   ]
  },
  {
   "cell_type": "code",
   "execution_count": 4,
   "metadata": {},
   "outputs": [
    {
     "data": {
      "text/plain": [
       "array([ 7, 17, 27, 37])"
      ]
     },
     "execution_count": 4,
     "metadata": {},
     "output_type": "execute_result"
    }
   ],
   "source": [
    "np.arange(7,45,10) # From 7 upto, but not exceeding, 45 by 10s"
   ]
  },
  {
   "cell_type": "code",
   "execution_count": 9,
   "metadata": {},
   "outputs": [
    {
     "data": {
      "text/plain": [
       "array([ 7. , 10.8, 14.6, 18.4, 22.2, 26. , 29.8, 33.6, 37.4, 41.2, 45. ])"
      ]
     },
     "execution_count": 9,
     "metadata": {},
     "output_type": "execute_result"
    }
   ],
   "source": [
    "np.linspace(7, 45, 11) # From 7 to 45 with 11 evenly spaced entries"
   ]
  },
  {
   "cell_type": "markdown",
   "metadata": {},
   "source": [
    "### 2d Arrays (Matrices)"
   ]
  },
  {
   "cell_type": "markdown",
   "metadata": {},
   "source": [
    "#### Some Ways to Enter Matrices"
   ]
  },
  {
   "cell_type": "markdown",
   "metadata": {},
   "source": [
    "First we can create matrices manually:"
   ]
  },
  {
   "cell_type": "code",
   "execution_count": 10,
   "metadata": {},
   "outputs": [],
   "source": [
    "I = np.eye(3) # 3x3 identity matrix\n",
    "A = np.array([\n",
    "    [2,0,1],\n",
    "    [0,1,2],\n",
    "    [0,0,3]\n",
    "]) # Manually entered array\n",
    "B = np.zeros((2,3)); # 2x3 zero matrix\n",
    "C = np.ones((2,3)); # 2x3 matrix of ones\n",
    "D = np.random.randint(1,20,size=(2,2));"
   ]
  },
  {
   "cell_type": "markdown",
   "metadata": {},
   "source": [
    "Note that in the commands above a semi-colon after a command suppresses the output.  This is helpful when you are entering initial values/variables but don't need to see the ourtput."
   ]
  },
  {
   "cell_type": "markdown",
   "metadata": {},
   "source": [
    "But we can also get matrices by importing data like so:"
   ]
  },
  {
   "cell_type": "code",
   "execution_count": 13,
   "metadata": {},
   "outputs": [],
   "source": [
    "# Here we import the data and assign each column of values to a variable:\n",
    "# Notice that as columsn are assigned they are made Numpy arrays\n",
    "df = pd.read_csv('../data/alcohol_calories.csv')\n",
    "t = np.array(df['Alcohol'])\n",
    "oz = np.array(df['oz'])\n",
    "cal = np.array(df['calories'])\n",
    "# This calculation creates a Numpy array of calories per oz\n",
    "cal_per_ounce = cal/oz"
   ]
  },
  {
   "cell_type": "code",
   "execution_count": 49,
   "metadata": {},
   "outputs": [
    {
     "name": "stdout",
     "output_type": "stream",
     "text": [
      "<class 'pandas.core.frame.DataFrame'>\n",
      "<class 'numpy.ndarray'>\n"
     ]
    }
   ],
   "source": [
    "print(type(df)) # This shows that df, the data frame, we imported is not an array and so not compatable with the other objects\n",
    "df_array = np.array(df)\n",
    "print(type(df_array)) # this is now a numpy array"
   ]
  },
  {
   "cell_type": "markdown",
   "metadata": {},
   "source": [
    "#### Working with rows and columns"
   ]
  },
  {
   "cell_type": "code",
   "execution_count": 7,
   "metadata": {},
   "outputs": [
    {
     "name": "stdout",
     "output_type": "stream",
     "text": [
      "[2 0 1]\n"
     ]
    }
   ],
   "source": [
    "print(A[0]) # this is a row of A, row numbers start at 0"
   ]
  },
  {
   "cell_type": "code",
   "execution_count": 8,
   "metadata": {},
   "outputs": [
    {
     "name": "stdout",
     "output_type": "stream",
     "text": [
      "[0. 1. 0.]\n"
     ]
    }
   ],
   "source": [
    "print(I[:,1]) # this is a column of I, numbering again starts at 0"
   ]
  },
  {
   "cell_type": "code",
   "execution_count": 40,
   "metadata": {},
   "outputs": [
    {
     "data": {
      "text/plain": [
       "array([1, 3, 5])"
      ]
     },
     "execution_count": 40,
     "metadata": {},
     "output_type": "execute_result"
    }
   ],
   "source": [
    "2*A[1]+1 # we can perform arithmetic on individual rows or columns"
   ]
  },
  {
   "cell_type": "code",
   "execution_count": 10,
   "metadata": {},
   "outputs": [
    {
     "name": "stdout",
     "output_type": "stream",
     "text": [
      "0.6666666666666666\n"
     ]
    }
   ],
   "source": [
    "print(np.average(A[:,0])) # average value of the first column of A"
   ]
  },
  {
   "cell_type": "markdown",
   "metadata": {},
   "source": [
    "#### Combining matrices or parts of matrices"
   ]
  },
  {
   "cell_type": "code",
   "execution_count": 11,
   "metadata": {},
   "outputs": [
    {
     "name": "stdout",
     "output_type": "stream",
     "text": [
      "[[2. 0. 1. 1. 0. 0.]\n",
      " [0. 1. 2. 0. 1. 0.]\n",
      " [0. 0. 3. 0. 0. 1.]\n",
      " [0. 0. 0. 1. 1. 1.]\n",
      " [0. 0. 0. 1. 1. 1.]]\n"
     ]
    }
   ],
   "source": [
    "BlockMatrix = np.block([\n",
    "    [A,I],\n",
    "    [B,C]\n",
    "]) # Array defined in blocks\n",
    "print(BlockMatrix)"
   ]
  },
  {
   "cell_type": "code",
   "execution_count": 42,
   "metadata": {},
   "outputs": [
    {
     "name": "stdout",
     "output_type": "stream",
     "text": [
      "[[2. 0. 1.]\n",
      " [0. 1. 2.]\n",
      " [0. 0. 3.]\n",
      " [0. 0. 0.]\n",
      " [0. 0. 0.]]\n"
     ]
    }
   ],
   "source": [
    "Concat_Matrix = np.concatenate((A,B),axis=0) # Axis 0 is columns Axis 1 in rows. See what happens when you change 0 to 1.  What is the issue?\n",
    "print(Concat_Matrix)"
   ]
  },
  {
   "cell_type": "code",
   "execution_count": null,
   "metadata": {},
   "outputs": [
    {
     "name": "stdout",
     "output_type": "stream",
     "text": [
      "This is the shape of matrix A is (3, 3), while matrix B has shape (2, 3)\n",
      "This is the shape of matrix B: (2, 3)\n"
     ]
    }
   ],
   "source": [
    "# The shape command gives the dimensions of the matrix.\n",
    "# If you tried switching axis = 0 to axis = 1, how does this output explain the error you got?\n",
    "print(\"This is the shape of matrix A is %s, while matrix B has shape %s\"%(str(np.shape(A)),str(np.shape(B))))"
   ]
  },
  {
   "cell_type": "code",
   "execution_count": 14,
   "metadata": {},
   "outputs": [
    {
     "data": {
      "text/plain": [
       "array([[0., 1., 2.],\n",
       "       [0., 0., 0.],\n",
       "       [1., 1., 1.]])"
      ]
     },
     "execution_count": 14,
     "metadata": {},
     "output_type": "execute_result"
    }
   ],
   "source": [
    "np.array([A[1],B[1],C[1]]) # Array built from rows in A, B, and C"
   ]
  },
  {
   "cell_type": "code",
   "execution_count": 46,
   "metadata": {},
   "outputs": [
    {
     "name": "stdout",
     "output_type": "stream",
     "text": [
      "(52, 3)\n"
     ]
    }
   ],
   "source": [
    "df_plus = np.column_stack((df_array[:,1:3],cal_per_ounce)); # Here we create an array with just the numerical data from our data frame with the cal/oz added\n",
    "print(np.shape(df_plus)) # this shows the size of the new array of data"
   ]
  },
  {
   "cell_type": "code",
   "execution_count": 50,
   "metadata": {},
   "outputs": [
    {
     "name": "stdout",
     "output_type": "stream",
     "text": [
      "This is the shape of vector v is (3,), while matrix w has shape (1, 3), thus np.shape(v)==np.shape(w) is False.\n"
     ]
    }
   ],
   "source": [
    "v = np.array([1,1,1]) # This is just a vector\n",
    "w = np.array([[1,1,1]]) # This is a matrix\n",
    "print(\"This is the shape of vector v is %s, while matrix w has shape %s, thus np.shape(v)==np.shape(w) is False.\"%(str(np.shape(v)),str(np.shape(w))))"
   ]
  },
  {
   "cell_type": "markdown",
   "metadata": {},
   "source": [
    "## Basic Operations"
   ]
  },
  {
   "cell_type": "markdown",
   "metadata": {},
   "source": [
    "### Vector Operations"
   ]
  },
  {
   "cell_type": "code",
   "execution_count": 60,
   "metadata": {},
   "outputs": [
    {
     "data": {
      "text/plain": [
       "array(['Beer (light)', 12.0, 103], dtype=object)"
      ]
     },
     "execution_count": 60,
     "metadata": {},
     "output_type": "execute_result"
    }
   ],
   "source": [
    "min_cal = int(np.min(cal_per_ounce))  # This finds the minimum value in a vector\n",
    "min_place = int(np.argmin(cal_per_ounce)) # This finds its location\n",
    "df_array[min_place] # here we see that drink with the fewest calories per ounce is the light beer"
   ]
  },
  {
   "cell_type": "code",
   "execution_count": 67,
   "metadata": {},
   "outputs": [
    {
     "name": "stdout",
     "output_type": "stream",
     "text": [
      "Here we see that the average calories per ounce in this data set is 43.88.\n"
     ]
    }
   ],
   "source": [
    "avg_cpo = np.average(cal_per_ounce) # This is finding the average calories per ounce.\n",
    "print(\"Here we see that the average calories per ounce in this data set is %0.2f.\"%avg_cpo)"
   ]
  },
  {
   "cell_type": "code",
   "execution_count": 70,
   "metadata": {},
   "outputs": [
    {
     "name": "stdout",
     "output_type": "stream",
     "text": [
      "Here we recalculated the average calories per ounce, still 43.88, by summing the entries and dividing by the number of rows\n"
     ]
    }
   ],
   "source": [
    "n = np.shape(cal_per_ounce)[0]\n",
    "avg_cpo = np.sum(cal_per_ounce)/n\n",
    "print(\"Here we recalculated the average calories per ounce, still %0.2f, by summing the entries and dividing by the number of rows\"%avg_cpo)"
   ]
  },
  {
   "cell_type": "code",
   "execution_count": 3,
   "metadata": {},
   "outputs": [
    {
     "name": "stdout",
     "output_type": "stream",
     "text": [
      "v=[0.77229604 0.8596606  0.3577695  0.12359282 0.29361835 0.90475821\n",
      " 0.99722617 0.4268789  0.96814042 0.68145844 0.78041959 0.63886855\n",
      " 0.78368516 0.63912882 0.16935878 0.04504363 0.3737052  0.60669773\n",
      " 0.5036566  0.1453788  0.74435218 0.77584264 0.61868332 0.64907519\n",
      " 0.74181911 0.16171278 0.23243972 0.17791415 0.16989985 0.68444571\n",
      " 0.06362042 0.22068583 0.69492017 0.71291552 0.57804234 0.49292418\n",
      " 0.55584187 0.33164669 0.40402451 0.205108   0.28228477 0.87926923]\n",
      "\n",
      " w=[0.46193808 0.47785446 0.53375633 0.97035808 0.64502598 0.67131534\n",
      " 0.79546202 0.01809432 0.48630911 0.59908717 0.43724718 0.18319976\n",
      " 0.72094881 0.78257189 0.65214827 0.87540134 0.39245596 0.44383819\n",
      " 0.47354208 0.0037641  0.33657223 0.73395544 0.20057719 0.70715684\n",
      " 0.15393043 0.17490785 0.44034171 0.88111499 0.07943003 0.73048749\n",
      " 0.1456222  0.32224771 0.80577    0.06335436 0.96911581 0.81634847\n",
      " 0.46467169 0.68506814 0.98850824 0.8125582  0.26406475 0.00361811]\n",
      "\n",
      " u=[0.58643962 0.337112   0.86299727 0.40727645 0.24096683 0.0721175\n",
      " 0.89926453 0.93507687 0.61175511 0.32354272 0.54467113 0.08820573\n",
      " 0.30730238 0.97485697 0.81139419 0.15456487 0.35129318 0.73975178\n",
      " 0.19814638 0.16412112 0.26931202 0.58660793 0.67268577 0.53978527\n",
      " 0.07448114 0.73001105 0.94126648 0.59216252 0.59003406 0.53885414\n",
      " 0.78137287 0.10008136 0.41240059 0.96988968 0.17011884 0.71623255\n",
      " 0.29907213 0.07523508 0.88548733 0.63377693 0.65078409 0.81247266]\n"
     ]
    }
   ],
   "source": [
    "# This creates three \"large\" random vectors\n",
    "v = np.random.rand(42,)\n",
    "w = np.random.rand(42,)\n",
    "u = np.random.rand(42,)\n",
    "print(\"v=%s\\n\\n w=%s\\n\\n u=%s\"%(v,w,u))"
   ]
  },
  {
   "cell_type": "code",
   "execution_count": 4,
   "metadata": {},
   "outputs": [
    {
     "name": "stdout",
     "output_type": "stream",
     "text": [
      "10.979007143593398\n",
      "10.979007143593398\n"
     ]
    }
   ],
   "source": [
    "print(np.dot(v,w)) # This calculates the dot product of v and w\n",
    "print(np.inner(v,w)) # This calculates the inner product of v and w\n",
    "# These are the same for one dimensional arrays, for more details on when ther differ you can look at\n",
    "# https://numpy.org/doc/2.3/reference/generated/numpy.inner.html"
   ]
  },
  {
   "cell_type": "markdown",
   "metadata": {},
   "source": [
    "We can use the dot product to find vector projections \n",
    "$$ proj_{v} u = \\frac{v\\cdot u}{v\\cdot v} v$$\n",
    "and create orthogonal vectors:\n",
    "$$\\widehat{u}=u-proj_{v} u$$"
   ]
  },
  {
   "cell_type": "code",
   "execution_count": 5,
   "metadata": {},
   "outputs": [
    {
     "name": "stdout",
     "output_type": "stream",
     "text": [
      "To the nearest 1000th, the new vector is orthogonal to v, their dot product is 0.000\n"
     ]
    }
   ],
   "source": [
    "proj_w = np.dot(v,w)/np.dot(v,v) * v\n",
    "w_hat = w - proj_w\n",
    "print(\"To the nearest 1000th, the new vector is orthogonal to v, their dot product is %0.3f\"%abs(np.dot(v,w_hat)))"
   ]
  },
  {
   "cell_type": "markdown",
   "metadata": {},
   "source": [
    "We can also use the norm command from the linear algebra library instead of using the dot product of a vector with its self"
   ]
  },
  {
   "cell_type": "code",
   "execution_count": 7,
   "metadata": {},
   "outputs": [
    {
     "name": "stdout",
     "output_type": "stream",
     "text": [
      "To the nearest 1000th, the new vector is orthogonal to v, dot product of 0.000\n",
      "To the nearest 1000th, the new vector is orthogonal to w_hat, dot product of 0.000\n"
     ]
    }
   ],
   "source": [
    "proj_u1 = np.dot(v,u)/np.linalg.norm(v)**2 *v\n",
    "proj_u2 = np.dot(w_hat,u)/np.linalg.norm(w_hat)**2 *w_hat\n",
    "p = proj_u1 + proj_u2\n",
    "u_hat = u-p\n",
    "print(\"To the nearest 1000th, the new vector is orthogonal to v, dot product of %0.3f\"%abs(np.dot(v,u_hat)))\n",
    "print(\"To the nearest 1000th, the new vector is orthogonal to w_hat, dot product of %0.3f\"%abs(np.dot(w_hat,u_hat)))"
   ]
  },
  {
   "cell_type": "markdown",
   "metadata": {},
   "source": [
    "This is creating a matrix with columns which are orthogonal and have length one.  How are the columns adjusted in length?"
   ]
  },
  {
   "cell_type": "code",
   "execution_count": 9,
   "metadata": {},
   "outputs": [],
   "source": [
    "Ortho = np.column_stack((v/np.linalg.norm(v),w_hat/np.linalg.norm(w_hat),u_hat/np.linalg.norm(u_hat))) "
   ]
  },
  {
   "cell_type": "markdown",
   "metadata": {},
   "source": [
    "### Uninary Operations on $A$"
   ]
  },
  {
   "cell_type": "code",
   "execution_count": 11,
   "metadata": {},
   "outputs": [
    {
     "data": {
      "text/plain": [
       "array([[2, 0, 0],\n",
       "       [0, 1, 0],\n",
       "       [1, 2, 3]])"
      ]
     },
     "execution_count": 11,
     "metadata": {},
     "output_type": "execute_result"
    }
   ],
   "source": [
    "np.transpose(A) # Transpose"
   ]
  },
  {
   "cell_type": "code",
   "execution_count": 12,
   "metadata": {},
   "outputs": [
    {
     "data": {
      "text/plain": [
       "np.float64(6.0)"
      ]
     },
     "execution_count": 12,
     "metadata": {},
     "output_type": "execute_result"
    }
   ],
   "source": [
    "LA.det(A) # Determinant"
   ]
  },
  {
   "cell_type": "code",
   "execution_count": 13,
   "metadata": {},
   "outputs": [
    {
     "data": {
      "text/plain": [
       "np.int64(6)"
      ]
     },
     "execution_count": 13,
     "metadata": {},
     "output_type": "execute_result"
    }
   ],
   "source": [
    "np.trace(A) # Trace"
   ]
  },
  {
   "cell_type": "code",
   "execution_count": 14,
   "metadata": {},
   "outputs": [
    {
     "data": {
      "text/plain": [
       "np.float64(4.358898943540674)"
      ]
     },
     "execution_count": 14,
     "metadata": {},
     "output_type": "execute_result"
    }
   ],
   "source": [
    "LA.norm(A) # Euclidean Norm"
   ]
  },
  {
   "cell_type": "code",
   "execution_count": 15,
   "metadata": {},
   "outputs": [
    {
     "data": {
      "text/plain": [
       "np.int64(3)"
      ]
     },
     "execution_count": 15,
     "metadata": {},
     "output_type": "execute_result"
    }
   ],
   "source": [
    "A.max() # Maximum Value"
   ]
  },
  {
   "cell_type": "code",
   "execution_count": 16,
   "metadata": {},
   "outputs": [
    {
     "data": {
      "text/plain": [
       "np.int64(0)"
      ]
     },
     "execution_count": 16,
     "metadata": {},
     "output_type": "execute_result"
    }
   ],
   "source": [
    "A.min() # Minumum Value"
   ]
  },
  {
   "cell_type": "code",
   "execution_count": 105,
   "metadata": {},
   "outputs": [
    {
     "data": {
      "text/plain": [
       "np.int64(9)"
      ]
     },
     "execution_count": 105,
     "metadata": {},
     "output_type": "execute_result"
    }
   ],
   "source": [
    "A.sum() # Sum of all Values"
   ]
  },
  {
   "cell_type": "code",
   "execution_count": 17,
   "metadata": {},
   "outputs": [
    {
     "data": {
      "text/plain": [
       "np.int64(3)"
      ]
     },
     "execution_count": 17,
     "metadata": {},
     "output_type": "execute_result"
    }
   ],
   "source": [
    "A[0].sum() # Sum of values in the first row"
   ]
  },
  {
   "cell_type": "code",
   "execution_count": 18,
   "metadata": {},
   "outputs": [
    {
     "data": {
      "text/plain": [
       "np.int64(2)"
      ]
     },
     "execution_count": 18,
     "metadata": {},
     "output_type": "execute_result"
    }
   ],
   "source": [
    "A[:,0].sum() # sum of values in the first column"
   ]
  },
  {
   "cell_type": "code",
   "execution_count": 19,
   "metadata": {},
   "outputs": [
    {
     "name": "stdout",
     "output_type": "stream",
     "text": [
      "[[ 0.5         0.         -0.16666667]\n",
      " [ 0.          1.         -0.66666667]\n",
      " [ 0.          0.          0.33333333]]\n"
     ]
    }
   ],
   "source": [
    "A_inv = LA.inv(A) # The inverse of A\n",
    "print(A_inv)"
   ]
  },
  {
   "cell_type": "markdown",
   "metadata": {},
   "source": [
    "### Binary Operations of Matrix A and other objects"
   ]
  },
  {
   "cell_type": "code",
   "execution_count": 20,
   "metadata": {},
   "outputs": [
    {
     "data": {
      "text/plain": [
       "array([[ True,  True,  True],\n",
       "       [ True,  True,  True],\n",
       "       [ True,  True,  True]])"
      ]
     },
     "execution_count": 20,
     "metadata": {},
     "output_type": "execute_result"
    }
   ],
   "source": [
    "np.matmul(A,A_inv) == I # Verifying the inverse of A"
   ]
  },
  {
   "cell_type": "code",
   "execution_count": 23,
   "metadata": {},
   "outputs": [
    {
     "data": {
      "text/plain": [
       "array([[ True,  True,  True],\n",
       "       [ True,  True,  True],\n",
       "       [ True,  True,  True]])"
      ]
     },
     "execution_count": 23,
     "metadata": {},
     "output_type": "execute_result"
    }
   ],
   "source": [
    "Ortho_T = np.transpose(Ortho)\n",
    "np.round(Ortho_T @ Ortho, 3) == I # the round command rounds off the entires in the matrix;"
   ]
  },
  {
   "cell_type": "code",
   "execution_count": 24,
   "metadata": {},
   "outputs": [
    {
     "data": {
      "text/plain": [
       "array([[ 0.97846094,  1.08914752,  0.45327629,  0.156586  ,  0.37199995,\n",
       "         1.14628397,  1.2634363 ,  0.54083448,  1.22658609,  0.86337419,\n",
       "         0.98875307,  0.80941489,  0.99289039,  0.80974464,  0.21456921,\n",
       "         0.05706806,  0.47346603,  0.76865606,  0.63810804,  0.18418776,\n",
       "         0.94305745,  0.98295431,  0.78384121,  0.82234621,  0.93984817,\n",
       "         0.2048821 ,  0.29448964,  0.22540844,  0.21525471,  0.8671589 ,\n",
       "         0.08060394,  0.27959805,  0.88042953,  0.90322875,  0.73235109,\n",
       "         0.62451059,  0.70422419,  0.42017997,  0.5118791 ,  0.2598617 ,\n",
       "         0.35764086,  1.11399068],\n",
       "       [ 0.71336324,  0.7790114 ,  0.46289541,  0.4854124 ,  0.46561211,\n",
       "         0.88961674,  1.00353744,  0.29605436,  0.8558428 ,  0.70875827,\n",
       "         0.70862903,  0.50773185,  0.82832934,  0.75613317,  0.38456502,\n",
       "         0.39298928,  0.41514912,  0.5939265 ,  0.5365746 ,  0.09983174,\n",
       "         0.6425545 ,  0.82841457,  0.5012838 ,  0.73162413,  0.56520249,\n",
       "         0.18175102,  0.33948828,  0.48517309,  0.14774389,  0.76519603,\n",
       "         0.10331433,  0.28263519,  0.80345421,  0.50815291,  0.79209579,\n",
       "         0.67129036,  0.56817709,  0.50790159,  0.6824948 ,  0.47516325,\n",
       "         0.30017868,  0.59586504],\n",
       "       [ 0.7870963 ,  0.74279585,  0.57314188,  0.11730503,  0.23023671,\n",
       "         0.6294159 ,  1.04638713,  0.74354186,  0.9474502 ,  0.57755321,\n",
       "         0.7790665 ,  0.50857507,  0.63036415,  0.80177441,  0.38359696,\n",
       "        -0.04007995,  0.3829678 ,  0.72819533,  0.40373458,  0.18551277,\n",
       "         0.64585196,  0.74534901,  0.74785616,  0.62993047,  0.58783926,\n",
       "         0.41994468,  0.52496927,  0.25600891,  0.38023246,  0.65335947,\n",
       "         0.37068848,  0.16394097,  0.59340883,  0.9752053 ,  0.36830077,\n",
       "         0.56775901,  0.49054138,  0.180282  ,  0.54469058,  0.30688131,\n",
       "         0.46467142,  1.04564645]])"
      ]
     },
     "execution_count": 24,
     "metadata": {},
     "output_type": "execute_result"
    }
   ],
   "source": [
    "Ortho_T+v # Adds v to all the rows of Ortho_Transpose, this is an example of what is called broadcasting"
   ]
  },
  {
   "cell_type": "code",
   "execution_count": null,
   "metadata": {},
   "outputs": [
    {
     "data": {
      "text/plain": [
       "array([ 3.746, -0.   , -0.   ])"
      ]
     },
     "execution_count": 29,
     "metadata": {},
     "output_type": "execute_result"
    }
   ],
   "source": [
    "np.round(np.matmul(Ortho_T,v),3) # Ortho_T times the column vector v"
   ]
  },
  {
   "cell_type": "code",
   "execution_count": null,
   "metadata": {},
   "outputs": [
    {
     "data": {
      "text/plain": [
       "array([ 3.746, -0.   , -0.   ])"
      ]
     },
     "execution_count": 27,
     "metadata": {},
     "output_type": "execute_result"
    }
   ],
   "source": [
    "np.round(np.matmul(v,Ortho),3) # Vector v as a row vector times Ortho"
   ]
  },
  {
   "cell_type": "markdown",
   "metadata": {},
   "source": [
    "### Solving Expressions $Ax=v$"
   ]
  },
  {
   "cell_type": "code",
   "execution_count": 47,
   "metadata": {},
   "outputs": [
    {
     "name": "stdout",
     "output_type": "stream",
     "text": [
      "[  4.66666667 -36.33333333   9.66666667]\n"
     ]
    }
   ],
   "source": [
    "v = np.array([19,-17,29])\n",
    "sol_vec = LA.solve(A,v) # calculate the solution to Ax=v\n",
    "print(sol_vec)"
   ]
  },
  {
   "cell_type": "code",
   "execution_count": 48,
   "metadata": {},
   "outputs": [
    {
     "data": {
      "text/plain": [
       "array([ True,  True,  True])"
      ]
     },
     "execution_count": 48,
     "metadata": {},
     "output_type": "execute_result"
    }
   ],
   "source": [
    "np.round(np.matmul(A,sol_vec),10) == v # checking that we get v as expected"
   ]
  },
  {
   "cell_type": "code",
   "execution_count": 49,
   "metadata": {},
   "outputs": [
    {
     "data": {
      "text/plain": [
       "array([ True, False,  True])"
      ]
     },
     "execution_count": 49,
     "metadata": {},
     "output_type": "execute_result"
    }
   ],
   "source": [
    "np.matmul(A,sol_vec) == v # if we don't round it off we get errors, this is a cautionary note on round off error"
   ]
  },
  {
   "cell_type": "code",
   "execution_count": 50,
   "metadata": {},
   "outputs": [
    {
     "data": {
      "text/plain": [
       "array([  4.66666667, -36.33333333,   9.66666667])"
      ]
     },
     "execution_count": 50,
     "metadata": {},
     "output_type": "execute_result"
    }
   ],
   "source": [
    "np.matmul(A_inv,v) # We can also find the solution using inverse matrices, this is sometimes more prone to round off error"
   ]
  },
  {
   "cell_type": "code",
   "execution_count": 51,
   "metadata": {},
   "outputs": [
    {
     "name": "stdout",
     "output_type": "stream",
     "text": [
      "[[ 3.  0. -1.]\n",
      " [ 0.  6. -4.]\n",
      " [ 0.  0.  2.]]\n"
     ]
    },
    {
     "data": {
      "text/plain": [
       "array([False,  True,  True])"
      ]
     },
     "execution_count": 51,
     "metadata": {},
     "output_type": "execute_result"
    }
   ],
   "source": [
    "A_temp  = LA.det(A)*A_inv # This gives us an integer matrix to work with, why?\n",
    "print(A_temp)\n",
    "1/LA.det(A)*np.matmul(A_temp,v) == sol_vec"
   ]
  },
  {
   "cell_type": "code",
   "execution_count": null,
   "metadata": {},
   "outputs": [],
   "source": []
  }
 ],
 "metadata": {
  "kernelspec": {
   "display_name": "Python 3",
   "language": "python",
   "name": "python3"
  },
  "language_info": {
   "codemirror_mode": {
    "name": "ipython",
    "version": 3
   },
   "file_extension": ".py",
   "mimetype": "text/x-python",
   "name": "python",
   "nbconvert_exporter": "python",
   "pygments_lexer": "ipython3",
   "version": "3.12.1"
  }
 },
 "nbformat": 4,
 "nbformat_minor": 2
}
