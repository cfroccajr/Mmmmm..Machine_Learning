{
 "cells": [
  {
   "cell_type": "code",
   "execution_count": 12,
   "metadata": {},
   "outputs": [],
   "source": [
    "import numpy as np\n",
    "from numpy import linalg as LA\n",
    "import pandas as pd"
   ]
  },
  {
   "cell_type": "markdown",
   "metadata": {},
   "source": [
    "## Creating Arrays"
   ]
  },
  {
   "cell_type": "markdown",
   "metadata": {},
   "source": [
    "### 1d Arrays (Vectors)"
   ]
  },
  {
   "cell_type": "markdown",
   "metadata": {},
   "source": [
    "The following commands are usefull in creating one dimensional vectors.  As we will see later these are distinct from matrices with one row or one column."
   ]
  },
  {
   "cell_type": "code",
   "execution_count": 2,
   "metadata": {},
   "outputs": [
    {
     "data": {
      "text/plain": [
       "array([1, 7, 9, 0])"
      ]
     },
     "execution_count": 2,
     "metadata": {},
     "output_type": "execute_result"
    }
   ],
   "source": [
    "np.array([1,7,9,0]) # Creates a 1X4 array of specific values"
   ]
  },
  {
   "cell_type": "code",
   "execution_count": 3,
   "metadata": {},
   "outputs": [],
   "source": [
    "np.arange(1,5); # 1d array with consecutive terms"
   ]
  },
  {
   "cell_type": "code",
   "execution_count": 4,
   "metadata": {},
   "outputs": [
    {
     "data": {
      "text/plain": [
       "array([ 7, 17, 27, 37])"
      ]
     },
     "execution_count": 4,
     "metadata": {},
     "output_type": "execute_result"
    }
   ],
   "source": [
    "np.arange(7,45,10) # From 7 upto, but not exceeding, 45 by 10s"
   ]
  },
  {
   "cell_type": "code",
   "execution_count": 9,
   "metadata": {},
   "outputs": [
    {
     "data": {
      "text/plain": [
       "array([ 7. , 10.8, 14.6, 18.4, 22.2, 26. , 29.8, 33.6, 37.4, 41.2, 45. ])"
      ]
     },
     "execution_count": 9,
     "metadata": {},
     "output_type": "execute_result"
    }
   ],
   "source": [
    "np.linspace(7, 45, 11) # From 7 to 45 with 11 evenly spaced entries"
   ]
  },
  {
   "cell_type": "markdown",
   "metadata": {},
   "source": [
    "### 2d Arrays (Matrices)"
   ]
  },
  {
   "cell_type": "markdown",
   "metadata": {},
   "source": [
    "#### Some Ways to Enter Matrices"
   ]
  },
  {
   "cell_type": "markdown",
   "metadata": {},
   "source": [
    "First we can create matrices manually:"
   ]
  },
  {
   "cell_type": "code",
   "execution_count": null,
   "metadata": {},
   "outputs": [],
   "source": [
    "I = np.eye(3) # 3x3 identity matrix\n",
    "A = np.array([\n",
    "    [2,0,1],\n",
    "    [0,1,2],\n",
    "    [0,0,3]\n",
    "]) # Manually entered array\n",
    "B = np.zeros((2,3)); # 2x3 zero matrix\n",
    "C = np.ones((2,3)); # 2x3 matrix of ones\n",
    "D = np.random.randint(1,20,size=(2,2));"
   ]
  },
  {
   "cell_type": "markdown",
   "metadata": {},
   "source": [
    "Note that in the commands above a semi-colon after a command suppresses the output.  This is helpful when you are entering initial values/variables but don't need to see the ourtput."
   ]
  },
  {
   "cell_type": "markdown",
   "metadata": {},
   "source": [
    "But we can also get matrices by importing data like so:"
   ]
  },
  {
   "cell_type": "code",
   "execution_count": 13,
   "metadata": {},
   "outputs": [],
   "source": [
    "# Here we import the data and assign each column of values to a variable:\n",
    "# Notice that as columsn are assigned they are made Numpy arrays\n",
    "df = pd.read_csv('../data/alcohol_calories.csv')\n",
    "t = np.array(df['Alcohol'])\n",
    "oz = np.array(df['oz'])\n",
    "cal = np.array(df['calories'])\n",
    "# This calculation creates a Numpy array of calories per oz\n",
    "cal_per_ounce = cal/oz"
   ]
  },
  {
   "cell_type": "code",
   "execution_count": 49,
   "metadata": {},
   "outputs": [
    {
     "name": "stdout",
     "output_type": "stream",
     "text": [
      "<class 'pandas.core.frame.DataFrame'>\n",
      "<class 'numpy.ndarray'>\n"
     ]
    }
   ],
   "source": [
    "print(type(df)) # This shows that df, the data frame, we imported is not an array and so not compatable with the other objects\n",
    "df_array = np.array(df)\n",
    "print(type(df_array)) # this is now a numpy array"
   ]
  },
  {
   "cell_type": "markdown",
   "metadata": {},
   "source": [
    "#### Working with rows and columns"
   ]
  },
  {
   "cell_type": "code",
   "execution_count": 7,
   "metadata": {},
   "outputs": [
    {
     "name": "stdout",
     "output_type": "stream",
     "text": [
      "[2 0 1]\n"
     ]
    }
   ],
   "source": [
    "print(A[0]) # this is a row of A, row numbers start at 0"
   ]
  },
  {
   "cell_type": "code",
   "execution_count": 8,
   "metadata": {},
   "outputs": [
    {
     "name": "stdout",
     "output_type": "stream",
     "text": [
      "[0. 1. 0.]\n"
     ]
    }
   ],
   "source": [
    "print(I[:,1]) # this is a column of I, numbering again starts at 0"
   ]
  },
  {
   "cell_type": "code",
   "execution_count": 40,
   "metadata": {},
   "outputs": [
    {
     "data": {
      "text/plain": [
       "array([1, 3, 5])"
      ]
     },
     "execution_count": 40,
     "metadata": {},
     "output_type": "execute_result"
    }
   ],
   "source": [
    "2*A[1]+1 # we can perform arithmetic on individual rows or columns"
   ]
  },
  {
   "cell_type": "code",
   "execution_count": 10,
   "metadata": {},
   "outputs": [
    {
     "name": "stdout",
     "output_type": "stream",
     "text": [
      "0.6666666666666666\n"
     ]
    }
   ],
   "source": [
    "print(np.average(A[:,0])) # average value of the first column of A"
   ]
  },
  {
   "cell_type": "markdown",
   "metadata": {},
   "source": [
    "#### Combining matrices or parts of matrices"
   ]
  },
  {
   "cell_type": "code",
   "execution_count": 11,
   "metadata": {},
   "outputs": [
    {
     "name": "stdout",
     "output_type": "stream",
     "text": [
      "[[2. 0. 1. 1. 0. 0.]\n",
      " [0. 1. 2. 0. 1. 0.]\n",
      " [0. 0. 3. 0. 0. 1.]\n",
      " [0. 0. 0. 1. 1. 1.]\n",
      " [0. 0. 0. 1. 1. 1.]]\n"
     ]
    }
   ],
   "source": [
    "BlockMatrix = np.block([\n",
    "    [A,I],\n",
    "    [B,C]\n",
    "]) # Array defined in blocks\n",
    "print(BlockMatrix)"
   ]
  },
  {
   "cell_type": "code",
   "execution_count": 42,
   "metadata": {},
   "outputs": [
    {
     "name": "stdout",
     "output_type": "stream",
     "text": [
      "[[2. 0. 1.]\n",
      " [0. 1. 2.]\n",
      " [0. 0. 3.]\n",
      " [0. 0. 0.]\n",
      " [0. 0. 0.]]\n"
     ]
    }
   ],
   "source": [
    "Concat_Matrix = np.concatenate((A,B),axis=0) # Axis 0 is columns Axis 1 in rows. See what happens when you change 0 to 1.  What is the issue?\n",
    "print(Concat_Matrix)"
   ]
  },
  {
   "cell_type": "code",
   "execution_count": null,
   "metadata": {},
   "outputs": [
    {
     "name": "stdout",
     "output_type": "stream",
     "text": [
      "This is the shape of matrix A is (3, 3), while matrix B has shape (2, 3)\n",
      "This is the shape of matrix B: (2, 3)\n"
     ]
    }
   ],
   "source": [
    "# The shape command gives the dimensions of the matrix.\n",
    "# If you tried switching axis = 0 to axis = 1, how does this output explain the error you got?\n",
    "print(\"This is the shape of matrix A is %s, while matrix B has shape %s\"%(str(np.shape(A)),str(np.shape(B))))"
   ]
  },
  {
   "cell_type": "code",
   "execution_count": 14,
   "metadata": {},
   "outputs": [
    {
     "data": {
      "text/plain": [
       "array([[0., 1., 2.],\n",
       "       [0., 0., 0.],\n",
       "       [1., 1., 1.]])"
      ]
     },
     "execution_count": 14,
     "metadata": {},
     "output_type": "execute_result"
    }
   ],
   "source": [
    "np.array([A[1],B[1],C[1]]) # Array built from rows in A, B, and C"
   ]
  },
  {
   "cell_type": "code",
   "execution_count": 46,
   "metadata": {},
   "outputs": [
    {
     "name": "stdout",
     "output_type": "stream",
     "text": [
      "(52, 3)\n"
     ]
    }
   ],
   "source": [
    "df_plus = np.column_stack((df_array[:,1:3],cal_per_ounce)); # Here we create an array with just the numerical data from our data frame with the cal/oz added\n",
    "print(np.shape(df_plus)) # this shows the size of the new array of data"
   ]
  },
  {
   "cell_type": "code",
   "execution_count": 50,
   "metadata": {},
   "outputs": [
    {
     "name": "stdout",
     "output_type": "stream",
     "text": [
      "This is the shape of vector v is (3,), while matrix w has shape (1, 3), thus np.shape(v)==np.shape(w) is False.\n"
     ]
    }
   ],
   "source": [
    "v = np.array([1,1,1]) # This is just a vector\n",
    "w = np.array([[1,1,1]]) # This is a matrix\n",
    "print(\"This is the shape of vector v is %s, while matrix w has shape %s, thus np.shape(v)==np.shape(w) is False.\"%(str(np.shape(v)),str(np.shape(w))))"
   ]
  },
  {
   "cell_type": "markdown",
   "metadata": {},
   "source": [
    "## Basic Operations"
   ]
  },
  {
   "cell_type": "markdown",
   "metadata": {},
   "source": [
    "### Vector Operations"
   ]
  },
  {
   "cell_type": "code",
   "execution_count": 60,
   "metadata": {},
   "outputs": [
    {
     "data": {
      "text/plain": [
       "array(['Beer (light)', 12.0, 103], dtype=object)"
      ]
     },
     "execution_count": 60,
     "metadata": {},
     "output_type": "execute_result"
    }
   ],
   "source": [
    "min_cal = int(np.min(cal_per_ounce))  # This finds the minimum value in a vector\n",
    "min_place = int(np.argmin(cal_per_ounce)) # This finds its location\n",
    "df_array[min_place] # here we see that drink with the fewest calories per ounce is the light beer"
   ]
  },
  {
   "cell_type": "code",
   "execution_count": 67,
   "metadata": {},
   "outputs": [
    {
     "name": "stdout",
     "output_type": "stream",
     "text": [
      "Here we see that the average calories per ounce in this data set is 43.88.\n"
     ]
    }
   ],
   "source": [
    "avg_cpo = np.average(cal_per_ounce) # This is finding the average calories per ounce.\n",
    "print(\"Here we see that the average calories per ounce in this data set is %0.2f.\"%avg_cpo)"
   ]
  },
  {
   "cell_type": "code",
   "execution_count": 70,
   "metadata": {},
   "outputs": [
    {
     "name": "stdout",
     "output_type": "stream",
     "text": [
      "Here we recalculated the average calories per ounce, still 43.88, by summing the entries and dividing by the number of rows\n"
     ]
    }
   ],
   "source": [
    "n = np.shape(cal_per_ounce)[0]\n",
    "avg_cpo = np.sum(cal_per_ounce)/n\n",
    "print(\"Here we recalculated the average calories per ounce, still %0.2f, by summing the entries and dividing by the number of rows\"%avg_cpo)"
   ]
  },
  {
   "cell_type": "code",
   "execution_count": 76,
   "metadata": {},
   "outputs": [
    {
     "name": "stdout",
     "output_type": "stream",
     "text": [
      "v=[0.34162129 0.34596886 0.25097628 0.33509977 0.50720447 0.12647195\n",
      " 0.75892854 0.37208604 0.88157789 0.91798707 0.64703095 0.93868355\n",
      " 0.02157209 0.5500054  0.17187958 0.34785719 0.96944697 0.03256866\n",
      " 0.24170396 0.62513683 0.61397071 0.31430387 0.60041287 0.78958649\n",
      " 0.06259206 0.83409154 0.82176021 0.97748511 0.97450153 0.26242974\n",
      " 0.81924443 0.81577943 0.33915693 0.31074615 0.03608822 0.65060616\n",
      " 0.55215072 0.71389137 0.41934541 0.93973877 0.14345007 0.82434143]\n",
      "\n",
      " w=[0.21934972 0.74827184 0.84109019 0.0648512  0.93642511 0.33771302\n",
      " 0.0882782  0.62317131 0.9718445  0.75375776 0.06865732 0.86937497\n",
      " 0.03518887 0.45274108 0.7318425  0.90223378 0.28022135 0.58422293\n",
      " 0.84594256 0.0848792  0.42651982 0.95499628 0.41831885 0.61614893\n",
      " 0.03788403 0.4866475  0.23802943 0.00150414 0.31936488 0.52809638\n",
      " 0.50673924 0.11761919 0.98375381 0.49611482 0.78593298 0.90364893\n",
      " 0.62219723 0.90043504 0.96197412 0.33449128 0.28469473 0.63605425]\n",
      "\n",
      " u=[0.03348078 0.8146889  0.09066942 0.3857973  0.28556768 0.79407854\n",
      " 0.78742232 0.11013612 0.1284256  0.76500127 0.3013091  0.97518254\n",
      " 0.67178775 0.50951948 0.54612954 0.28140682 0.08255871 0.74539081\n",
      " 0.97538536 0.41288791 0.77542626 0.97997659 0.27865878 0.266604\n",
      " 0.80076438 0.50628307 0.14464056 0.82650046 0.60987729 0.38662195\n",
      " 0.78079405 0.3074583  0.46258093 0.98160044 0.61699613 0.52313746\n",
      " 0.09140263 0.55611792 0.35257865 0.70703145 0.87115907 0.11316043]\n"
     ]
    }
   ],
   "source": [
    "# This creates three \"large\" random vectors\n",
    "v = np.random.rand(42,)\n",
    "w = np.random.rand(42,)\n",
    "u = np.random.rand(42,)\n",
    "print(\"v=%s\\n\\n w=%s\\n\\n u=%s\"%(v,w,u))"
   ]
  },
  {
   "cell_type": "code",
   "execution_count": 80,
   "metadata": {},
   "outputs": [
    {
     "name": "stdout",
     "output_type": "stream",
     "text": [
      "11.269297215899401\n",
      "11.269297215899401\n"
     ]
    }
   ],
   "source": [
    "print(np.dot(v,w)) # This calculates the dot product of v and w\n",
    "print(np.inner(v,w)) # This calculates the inner product of v and w\n",
    "# These are the same for one dimensional arrays, for more details on when ther differ you can look at\n",
    "# https://numpy.org/doc/2.3/reference/generated/numpy.inner.html"
   ]
  },
  {
   "cell_type": "markdown",
   "metadata": {},
   "source": [
    "We can use the dot product to find vector projections and create orthogonal vectors:"
   ]
  },
  {
   "cell_type": "code",
   "execution_count": null,
   "metadata": {},
   "outputs": [
    {
     "name": "stdout",
     "output_type": "stream",
     "text": [
      "To the nearest 1000th, the new vector is orthogonal to v, dot product of 0.000\n"
     ]
    }
   ],
   "source": [
    "proj_w = np.dot(v,w)/np.dot(v,v) * v\n",
    "w_hat = w - proj_w\n",
    "print(\"To the nearest 1000th, the new vector is orthogonal to v, dot product of %0.3f\"%abs(np.dot(v,w_hat)))"
   ]
  },
  {
   "cell_type": "markdown",
   "metadata": {},
   "source": [
    "We can also use the norm command from the linear algebra library instead of using the dot product of a vector with its self"
   ]
  },
  {
   "cell_type": "code",
   "execution_count": 92,
   "metadata": {},
   "outputs": [
    {
     "name": "stdout",
     "output_type": "stream",
     "text": [
      "To the nearest 1000th, the new vector is orthogonal to v, dot product of 0.000\n",
      "To the nearest 1000th, the new vector is orthogonal to w_hat, dot product of 0.000\n"
     ]
    }
   ],
   "source": [
    "proj_u1 = np.dot(v,u)/np.linalg.norm(v)**2 *v\n",
    "proj_u2 = np.dot(w_hat,u)/np.linalg.norm(w_hat)**2 *w_hat\n",
    "p = proj_u1 + proj_u2\n",
    "u_hat = u-p\n",
    "print(\"To the nearest 1000th, the new vector is orthogonal to v, dot product of %0.3f\"%abs(np.dot(v,u_hat)))\n",
    "print(\"To the nearest 1000th, the new vector is orthogonal to w_hat, dot product of %0.3f\"%abs(np.dot(w_hat,u_hat)))"
   ]
  },
  {
   "cell_type": "markdown",
   "metadata": {},
   "source": [
    "This is creating a matrix with columns which are orthogonal and have length one.  How are the columns adjusted in length?"
   ]
  },
  {
   "cell_type": "code",
   "execution_count": null,
   "metadata": {},
   "outputs": [],
   "source": [
    "Ortho_Normal_Example = np.column_stack((v/np.linalg.norm(v),w_hat/np.linalg.norm(w_hat),u_hat/np.linalg.norm(u_hat))) "
   ]
  },
  {
   "cell_type": "markdown",
   "metadata": {},
   "source": [
    "### Uninary Operations on $A$"
   ]
  },
  {
   "cell_type": "code",
   "execution_count": 99,
   "metadata": {},
   "outputs": [
    {
     "data": {
      "text/plain": [
       "array([[2, 0, 0],\n",
       "       [0, 1, 0],\n",
       "       [1, 2, 3]])"
      ]
     },
     "execution_count": 99,
     "metadata": {},
     "output_type": "execute_result"
    }
   ],
   "source": [
    "np.transpose(A) # Transpose"
   ]
  },
  {
   "cell_type": "code",
   "execution_count": 100,
   "metadata": {},
   "outputs": [
    {
     "data": {
      "text/plain": [
       "np.float64(6.0)"
      ]
     },
     "execution_count": 100,
     "metadata": {},
     "output_type": "execute_result"
    }
   ],
   "source": [
    "LA.det(A) # Determinant"
   ]
  },
  {
   "cell_type": "code",
   "execution_count": 101,
   "metadata": {},
   "outputs": [
    {
     "data": {
      "text/plain": [
       "np.int64(6)"
      ]
     },
     "execution_count": 101,
     "metadata": {},
     "output_type": "execute_result"
    }
   ],
   "source": [
    "np.trace(A) # Trace"
   ]
  },
  {
   "cell_type": "code",
   "execution_count": 102,
   "metadata": {},
   "outputs": [
    {
     "data": {
      "text/plain": [
       "np.float64(4.358898943540674)"
      ]
     },
     "execution_count": 102,
     "metadata": {},
     "output_type": "execute_result"
    }
   ],
   "source": [
    "LA.norm(A) # Euclidean Norm"
   ]
  },
  {
   "cell_type": "code",
   "execution_count": 103,
   "metadata": {},
   "outputs": [
    {
     "data": {
      "text/plain": [
       "np.int64(3)"
      ]
     },
     "execution_count": 103,
     "metadata": {},
     "output_type": "execute_result"
    }
   ],
   "source": [
    "A.max() # Maximum Value"
   ]
  },
  {
   "cell_type": "code",
   "execution_count": 104,
   "metadata": {},
   "outputs": [
    {
     "data": {
      "text/plain": [
       "np.int64(0)"
      ]
     },
     "execution_count": 104,
     "metadata": {},
     "output_type": "execute_result"
    }
   ],
   "source": [
    "A.min() # Minumum Value"
   ]
  },
  {
   "cell_type": "code",
   "execution_count": 105,
   "metadata": {},
   "outputs": [
    {
     "data": {
      "text/plain": [
       "np.int64(9)"
      ]
     },
     "execution_count": 105,
     "metadata": {},
     "output_type": "execute_result"
    }
   ],
   "source": [
    "A.sum() # Sum of all Values"
   ]
  },
  {
   "cell_type": "code",
   "execution_count": 23,
   "metadata": {},
   "outputs": [
    {
     "data": {
      "text/plain": [
       "np.int64(3)"
      ]
     },
     "execution_count": 23,
     "metadata": {},
     "output_type": "execute_result"
    }
   ],
   "source": [
    "A[0].sum() # Sum of values in the first row"
   ]
  },
  {
   "cell_type": "code",
   "execution_count": 106,
   "metadata": {},
   "outputs": [
    {
     "data": {
      "text/plain": [
       "np.int64(2)"
      ]
     },
     "execution_count": 106,
     "metadata": {},
     "output_type": "execute_result"
    }
   ],
   "source": [
    "A[:,0].sum() # sum of values in the first column"
   ]
  },
  {
   "cell_type": "code",
   "execution_count": 107,
   "metadata": {},
   "outputs": [
    {
     "name": "stdout",
     "output_type": "stream",
     "text": [
      "[[ 0.5         0.         -0.16666667]\n",
      " [ 0.          1.         -0.66666667]\n",
      " [ 0.          0.          0.33333333]]\n"
     ]
    }
   ],
   "source": [
    "A_inv = LA.inv(A) # The inverse of A\n",
    "print(A_inv)"
   ]
  },
  {
   "cell_type": "markdown",
   "metadata": {},
   "source": [
    "### Binary Operations of Matrix A and other objects"
   ]
  },
  {
   "cell_type": "code",
   "execution_count": 108,
   "metadata": {},
   "outputs": [
    {
     "data": {
      "text/plain": [
       "array([[ True,  True,  True],\n",
       "       [ True,  True,  True],\n",
       "       [ True,  True,  True]])"
      ]
     },
     "execution_count": 108,
     "metadata": {},
     "output_type": "execute_result"
    }
   ],
   "source": [
    "np.matmul(A,A_inv) == I # Verifying the inverse of A"
   ]
  },
  {
   "cell_type": "code",
   "execution_count": 123,
   "metadata": {},
   "outputs": [
    {
     "data": {
      "text/plain": [
       "array([[ True,  True,  True],\n",
       "       [ True,  True,  True],\n",
       "       [ True,  True,  True]])"
      ]
     },
     "execution_count": 123,
     "metadata": {},
     "output_type": "execute_result"
    }
   ],
   "source": [
    "Ortho_Transpose = np.transpose(Ortho_Normal_Example)\n",
    "np.round(Ortho_Transpose @ Ortho_Normal_Example, 15) == I"
   ]
  },
  {
   "cell_type": "code",
   "execution_count": 125,
   "metadata": {},
   "outputs": [
    {
     "data": {
      "text/plain": [
       "array([[0.42834378, 0.433795  , 0.31468802, 0.42016674, 0.63596119,\n",
       "        0.15857756, 0.95158684, 0.46654218, 1.10537142, 1.15102327,\n",
       "        0.81128341, 1.17697368, 0.02704829, 0.68962738, 0.21551219,\n",
       "        0.4361627 , 1.21554656, 0.04083639, 0.30306188, 0.78383134,\n",
       "        0.76983065, 0.39409168, 0.75283107, 0.99002749, 0.07848141,\n",
       "        1.04583039, 1.03036868, 1.22562523, 1.22188425, 0.32904901,\n",
       "        1.02721426, 1.02286965, 0.42525384, 0.38963081, 0.04524942,\n",
       "        0.81576621, 0.69231731, 0.89511672, 0.52579861, 1.17829677,\n",
       "        0.17986568, 1.03360515],\n",
       "       [0.33109626, 0.52796153, 0.49221631, 0.26973668, 0.71521701,\n",
       "        0.21649998, 0.58943945, 0.50132597, 1.00300677, 0.94987789,\n",
       "        0.50011306, 1.00740599, 0.02872066, 0.56952725, 0.39415005,\n",
       "        0.58572349, 0.81426023, 0.23783116, 0.48718646, 0.48998092,\n",
       "        0.60688159, 0.58041253, 0.59392612, 0.80523369, 0.05981952,\n",
       "        0.79048484, 0.69039693, 0.71810384, 0.83230376, 0.38601608,\n",
       "        0.78694279, 0.6419163 , 0.60918675, 0.40977364, 0.31427436,\n",
       "        0.80848389, 0.63315133, 0.85376353, 0.66007656, 0.81232387,\n",
       "        0.20954975, 0.83803529],\n",
       "       [0.26104355, 0.49272256, 0.08900176, 0.43387647, 0.36973114,\n",
       "        0.37718899, 0.95747048, 0.24156908, 0.61339714, 0.95472083,\n",
       "        0.66143806, 1.03870424, 0.29495805, 0.59339003, 0.23525147,\n",
       "        0.23971241, 0.80129593, 0.22981859, 0.45353678, 0.68687658,\n",
       "        0.76475512, 0.49594955, 0.54524371, 0.66221333, 0.38357235,\n",
       "        0.82589112, 0.71063291, 1.1755679 , 1.02055762, 0.28371738,\n",
       "        0.9252995 , 0.79741242, 0.29313375, 0.58180246, 0.13985914,\n",
       "        0.59761461, 0.38621492, 0.66569794, 0.31875475, 1.02923113,\n",
       "        0.43426789, 0.62304976]])"
      ]
     },
     "execution_count": 125,
     "metadata": {},
     "output_type": "execute_result"
    }
   ],
   "source": [
    "Ortho_Transpose+v # Adds v to all the rows of Ortho_Transpose, this is an example of what is called broadcasting"
   ]
  },
  {
   "cell_type": "code",
   "execution_count": null,
   "metadata": {},
   "outputs": [
    {
     "data": {
      "text/plain": [
       "array([ 3.93924659e+00, -1.61329283e-16, -4.16333634e-16])"
      ]
     },
     "execution_count": 126,
     "metadata": {},
     "output_type": "execute_result"
    }
   ],
   "source": [
    "np.matmul(Ortho_Transpose,v) # Ortho_Transpose times the column vector v"
   ]
  },
  {
   "cell_type": "code",
   "execution_count": 128,
   "metadata": {},
   "outputs": [
    {
     "data": {
      "text/plain": [
       "array([ 3.93924659e+00, -1.61329283e-16, -4.16333634e-16])"
      ]
     },
     "execution_count": 128,
     "metadata": {},
     "output_type": "execute_result"
    }
   ],
   "source": [
    "np.matmul(v,Ortho_Normal_Example) # Vector v as a row vector times Ortho_Normal_Example"
   ]
  },
  {
   "cell_type": "code",
   "execution_count": 129,
   "metadata": {},
   "outputs": [
    {
     "data": {
      "text/plain": [
       "np.float64(-1.3183898417423734e-16)"
      ]
     },
     "execution_count": 129,
     "metadata": {},
     "output_type": "execute_result"
    }
   ],
   "source": [
    "np.inner(Ortho_Transpose[1],v) # Second row of Ortho_Transpose times v as a column, inner product"
   ]
  },
  {
   "cell_type": "code",
   "execution_count": 130,
   "metadata": {},
   "outputs": [
    {
     "data": {
      "text/plain": [
       "array([[-0.00359557, -0.00364133, -0.00264153, ..., -0.00989078,\n",
       "        -0.00150982, -0.00867622],\n",
       "       [ 0.06217257,  0.0629638 ,  0.04567584, ...,  0.17102557,\n",
       "         0.02610686,  0.1500241 ],\n",
       "       [ 0.08241273,  0.08346154,  0.06054553, ...,  0.22670261,\n",
       "         0.0346059 ,  0.19886415],\n",
       "       ...,\n",
       "       [-0.04352764, -0.04408159, -0.03197812, ..., -0.11973672,\n",
       "        -0.01827768, -0.10503338],\n",
       "       [ 0.02258106,  0.02286843,  0.01658945, ...,  0.06211643,\n",
       "         0.009482  ,  0.0544887 ],\n",
       "       [ 0.00467811,  0.00473765,  0.00343683, ...,  0.01286865,\n",
       "         0.00196439,  0.01128842]], shape=(42, 42))"
      ]
     },
     "execution_count": 130,
     "metadata": {},
     "output_type": "execute_result"
    }
   ],
   "source": [
    "np.outer(Ortho_Transpose[1],v) # Second row of Ortho_Transpose as a column vector times v as a row vector, outer product"
   ]
  },
  {
   "cell_type": "markdown",
   "metadata": {},
   "source": [
    "### Solving Expressions $Ax=v$"
   ]
  },
  {
   "cell_type": "code",
   "execution_count": 138,
   "metadata": {},
   "outputs": [
    {
     "name": "stdout",
     "output_type": "stream",
     "text": [
      "[-1.5 -7.   1. ]\n"
     ]
    }
   ],
   "source": [
    "v = np.random.randint(-5,5,size=(3,))\n",
    "sol_vec = LA.solve(A,v) # calculate the solution to Ax=v\n",
    "print(sol_vec)"
   ]
  },
  {
   "cell_type": "code",
   "execution_count": 139,
   "metadata": {},
   "outputs": [
    {
     "data": {
      "text/plain": [
       "array([ True,  True,  True])"
      ]
     },
     "execution_count": 139,
     "metadata": {},
     "output_type": "execute_result"
    }
   ],
   "source": [
    "np.round(np.matmul(A,sol_vec),0) == v # checking that we get v as expected"
   ]
  },
  {
   "cell_type": "code",
   "execution_count": 140,
   "metadata": {},
   "outputs": [
    {
     "data": {
      "text/plain": [
       "array([ True,  True,  True])"
      ]
     },
     "execution_count": 140,
     "metadata": {},
     "output_type": "execute_result"
    }
   ],
   "source": [
    "np.matmul(A,sol_vec) == v # if we don't round it off we get errors, this is a cautionary note on round off error"
   ]
  },
  {
   "cell_type": "code",
   "execution_count": 141,
   "metadata": {},
   "outputs": [
    {
     "data": {
      "text/plain": [
       "array([-1.5, -7. ,  1. ])"
      ]
     },
     "execution_count": 141,
     "metadata": {},
     "output_type": "execute_result"
    }
   ],
   "source": [
    "np.matmul(A_inv,v) # We can also find the solution using inverse matrices, this is sometimes more prone to round off error"
   ]
  },
  {
   "cell_type": "code",
   "execution_count": 142,
   "metadata": {},
   "outputs": [
    {
     "name": "stdout",
     "output_type": "stream",
     "text": [
      "[[ 3.  0. -1.]\n",
      " [ 0.  6. -4.]\n",
      " [ 0.  0.  2.]]\n"
     ]
    },
    {
     "data": {
      "text/plain": [
       "array([ True,  True,  True])"
      ]
     },
     "execution_count": 142,
     "metadata": {},
     "output_type": "execute_result"
    }
   ],
   "source": [
    "A_temp  = LA.det(A)*A_inv # This gives us an integer matrix to work with, why?\n",
    "print(A_temp)\n",
    "1/LA.det(A)*np.matmul(A_temp,v) == sol_vec"
   ]
  },
  {
   "cell_type": "code",
   "execution_count": null,
   "metadata": {},
   "outputs": [],
   "source": []
  }
 ],
 "metadata": {
  "kernelspec": {
   "display_name": "Python 3",
   "language": "python",
   "name": "python3"
  },
  "language_info": {
   "codemirror_mode": {
    "name": "ipython",
    "version": 3
   },
   "file_extension": ".py",
   "mimetype": "text/x-python",
   "name": "python",
   "nbconvert_exporter": "python",
   "pygments_lexer": "ipython3",
   "version": "3.12.1"
  }
 },
 "nbformat": 4,
 "nbformat_minor": 2
}
